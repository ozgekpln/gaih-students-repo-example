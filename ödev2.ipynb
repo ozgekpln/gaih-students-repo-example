{
  "nbformat": 4,
  "nbformat_minor": 0,
  "metadata": {
    "colab": {
      "name": "ödev2.ipynb",
      "provenance": [],
      "collapsed_sections": [],
      "authorship_tag": "ABX9TyNNmV5fCUbmwW7t9sezPD+X",
      "include_colab_link": true
    },
    "kernelspec": {
      "name": "python3",
      "display_name": "Python 3"
    }
  },
  "cells": [
    {
      "cell_type": "markdown",
      "metadata": {
        "id": "view-in-github",
        "colab_type": "text"
      },
      "source": [
        "<a href=\"https://colab.research.google.com/github/ozgekpln/gaih-students-repo-example/blob/main/%C3%B6dev2.ipynb\" target=\"_parent\"><img src=\"https://colab.research.google.com/assets/colab-badge.svg\" alt=\"Open In Colab\"/></a>"
      ]
    },
    {
      "cell_type": "code",
      "metadata": {
        "id": "dJtpKL3rw3AW"
      },
      "source": [
        "Students=[]\r\n",
        "S1 = input(\"Öğrencinin isim ve soyismini giriniz:\").upper()\r\n",
        "S2 = input(\"Öğrencinin isim ve soyismini giriniz:\").upper()\r\n",
        "S3 = input(\"Öğrencinin isim ve soyismini giriniz:\").upper()\r\n",
        "S4 = input(\"Öğrencinin isim ve soyismini giriniz:\").upper()\r\n",
        "S5 = input(\"Öğrencinin isim ve soyismini giriniz:\").upper()\r\n",
        "Students.append(S1)\r\n",
        "Students.append(S2)\r\n",
        "Students.append(S3)\r\n",
        "Students.append(S4)\r\n",
        "Students.append(S5)\r\n",
        "\r\n",
        "print(\"\\nStudents:\",Students,end='\\n')\r\n",
        "midterm = []    \r\n",
        "final = []   \r\n",
        "homework = []\r\n",
        "  \r\n",
        "midterm = [int(i) for i in input(\"Sırayla öğrencilerin midterm notları: \").split(\",\")] \r\n",
        "final = [int(x) for x in input(\"Sırayla öğrencilerin final notları: \").split(\",\")] \r\n",
        "homework = [int(j)for j in input(\"Sırayla öğrencilerin ödev notları: \").split(\",\")]\r\n",
        "\r\n",
        "print(\"\\nmidterm:\",midterm) \r\n",
        "print(\"final:\",final) \r\n",
        "print(\"homework:\",homework)\r\n",
        "\r\n",
        "s1notları= (midterm[0],final[0],homework[0])\r\n",
        "s2notları= (midterm[1],final[1],homework[1])\r\n",
        "s3notları= (midterm[2],final[2],homework[2])\r\n",
        "s4notları= (midterm[3],final[3],homework[3])\r\n",
        "s5notları= (midterm[4],final[4],homework[4])\r\n",
        "\r\n",
        "information={S1:s1notları,S2:s2notları,S3:s3notları,S4:s4notları,S5:s5notları}\r\n",
        "\r\n",
        "print(\"\\nÖğrencilerin sırayla midterm,final ve homework notları:\",information)\r\n",
        "grades=[]\r\n",
        "for i in information.values():\r\n",
        "\tgrades.append(i)\r\n",
        "ort={}\r\n",
        "ort[(grades[0][0]+grades[0][1]+grades[0][2])/3]=S1\r\n",
        "ort[(grades[1][0]+grades[1][1]+grades[1][2])/3]=S2\r\n",
        "ort[(grades[2][0]+grades[2][1]+grades[2][2])/3]=S3\r\n",
        "ort[(grades[3][0]+grades[3][1]+grades[3][2])/3]=S4\r\n",
        "ort[(grades[4][0]+grades[4][1]+grades[4][2])/3]=S5\r\n",
        "\r\n",
        "ortalama=sorted(ort.items())\r\n",
        "print(\"\\nÖğerencilerin ortalamaları:\",ortalama)\r\n",
        "print(ortalama[4][0],\"ortalama ile\",ortalama[4][1],\"birinci. TEBRİKLER!\")\r\n",
        "\r\n",
        "\r\n",
        "\r\n",
        "\r\n",
        "\r\n",
        "\r\n",
        "\r\n",
        "\r\n",
        "\r\n",
        "\r\n",
        "\r\n",
        "\r\n",
        "\r\n",
        "\r\n",
        "\r\n",
        "\r\n",
        "\r\n",
        "\r\n",
        "\r\n",
        "\r\n",
        "\r\n",
        "\r\n",
        "\r\n",
        "\r\n",
        "\r\n"
      ],
      "execution_count": null,
      "outputs": []
    }
  ]
}